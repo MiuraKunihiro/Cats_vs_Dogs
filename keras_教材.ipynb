{
  "nbformat": 4,
  "nbformat_minor": 0,
  "metadata": {
    "colab": {
      "name": "keras教材2.ipynb のコピー のコピー",
      "provenance": [],
      "collapsed_sections": [],
      "authorship_tag": "ABX9TyOvx7vrEtKov+PGRIHw8+hj",
      "include_colab_link": true
    },
    "kernelspec": {
      "name": "python3",
      "display_name": "Python 3"
    }
  },
  "cells": [
    {
      "cell_type": "markdown",
      "metadata": {
        "id": "view-in-github",
        "colab_type": "text"
      },
      "source": [
        "<a href=\"https://colab.research.google.com/github/MiuraKunihiro/Cats_vs_Dogs/blob/master/keras_%E6%95%99%E6%9D%90.ipynb\" target=\"_parent\"><img src=\"https://colab.research.google.com/assets/colab-badge.svg\" alt=\"Open In Colab\"/></a>"
      ]
    },
    {
      "cell_type": "markdown",
      "metadata": {
        "id": "x5-hGJMo81nf",
        "colab_type": "text"
      },
      "source": [
        "### **Kerasを使った猫と犬の分類**"
      ]
    },
    {
      "cell_type": "markdown",
      "metadata": {
        "id": "VgvgW3bV832u",
        "colab_type": "text"
      },
      "source": [
        "# はじめに\n",
        "今回はbackendにTensorflowを使いつつ、Kerasによる機械学習を行います。使用したデータは猫と犬の写真です。\n",
        "\n",
        "(data source:https://www.kaggle.com/c/dogs-vs-cats/data)"
      ]
    },
    {
      "cell_type": "markdown",
      "metadata": {
        "id": "y8-DtOLk9NpX",
        "colab_type": "text"
      },
      "source": [
        "# 1.データの読み込み\n",
        "\n",
        "データソースににあるオリジナルのデータには猫と犬それぞれ12500枚以上の写真がありましたが、\n",
        "\n",
        "今回はその中のごく一部の写真を使って機械学習を行なっていきます。\n",
        "\n",
        "google drive にその必要な写真データを用意したので、これを使います。\n"
      ]
    },
    {
      "cell_type": "markdown",
      "metadata": {
        "id": "DMfmebXR9a-i",
        "colab_type": "text"
      },
      "source": [
        "まずは必要なパッケージを取得します。"
      ]
    },
    {
      "cell_type": "code",
      "metadata": {
        "id": "TeGiLh9D9Uyn",
        "colab_type": "code",
        "colab": {}
      },
      "source": [
        "!apt-get install -y -qq software-properties-common python-software-properties module-init-tools\n",
        "!add-apt-repository -y ppa:alessandro-strada/ppa 2>&1 > /dev/null\n",
        "!apt-get update -qq 2>&1 > /dev/null\n",
        "!apt-get -y install -qq google-drive-ocamlfuse fuse"
      ],
      "execution_count": 0,
      "outputs": []
    },
    {
      "cell_type": "markdown",
      "metadata": {
        "id": "F9FUSzrQ9pOE",
        "colab_type": "text"
      },
      "source": [
        "以下のコードを実行すると、青いURLが出現します。\n",
        "\n",
        "クリックした移動先でアカウントにログインし、許可ボタンを押して下さい。\n",
        "\n",
        "その次に出現するリンクをコピーして、以下のボックスにペーストし、エンターして下さい。"
      ]
    },
    {
      "cell_type": "code",
      "metadata": {
        "id": "vQg17f1D9eSQ",
        "colab_type": "code",
        "colab": {}
      },
      "source": [
        "from google.colab import auth\n",
        "auth.authenticate_user()\n",
        "from oauth2client.client import GoogleCredentials\n",
        "creds = GoogleCredentials.get_application_default()"
      ],
      "execution_count": 0,
      "outputs": []
    },
    {
      "cell_type": "markdown",
      "metadata": {
        "id": "Y33sHMrp90yw",
        "colab_type": "text"
      },
      "source": [
        "以下のコードを実行し、先ほどと同じようにログイン→許可→リンクをコピー→ボックスにペーストと一連の操作をおこなって下さい。"
      ]
    },
    {
      "cell_type": "code",
      "metadata": {
        "id": "EpCiyPgT93LY",
        "colab_type": "code",
        "colab": {}
      },
      "source": [
        "import getpass\n",
        "!google-drive-ocamlfuse -headless -id={creds.client_id} -secret={creds.client_secret} < /dev/null 2>&1 | grep URL\n",
        "vcode = getpass.getpass()\n",
        "!echo {vcode} | google-drive-ocamlfuse -headless -id={creds.client_id} -secret={creds.client_secret}"
      ],
      "execution_count": 0,
      "outputs": []
    },
    {
      "cell_type": "markdown",
      "metadata": {
        "id": "MMRCLMCa-L72",
        "colab_type": "text"
      },
      "source": [
        "以下のコマンドを実行することによってgoogle driveの特定フォルダにマウントして目的のデータにアクセスできるようになります。"
      ]
    },
    {
      "cell_type": "code",
      "metadata": {
        "id": "XzgVAVgH-AOT",
        "colab_type": "code",
        "colab": {}
      },
      "source": [
        "!cp -f ~/.gdfuse/default/config config\n",
        "!sed -i -e \"s/^root_folder=$/root_folder=1amEIqdAv4_C44JoaerIwqfE-D-nTltxi/\" config\n",
        "\n",
        "!mkdir -p drive\n",
        "!google-drive-ocamlfuse -config ./config -cc drive\n",
        "!ls drive"
      ],
      "execution_count": 0,
      "outputs": []
    },
    {
      "cell_type": "markdown",
      "metadata": {
        "id": "qdN_Yh87Ud80",
        "colab_type": "text"
      },
      "source": [
        "# 2.読み込んだ各フォルダにパスを通す\n",
        "\n",
        "読み込んだフォルダの構造と内容は以下のようになっています。\n",
        "\n",
        "\n",
        "\n",
        "```\n",
        "Cars_vs_Dogs\n",
        "  │ \n",
        "  ├── train\n",
        "  │   ├── cats 100枚の写真（cat.0.jpg ~ cat.99.jpg）\n",
        "  │   └── dogs 100枚の写真（dog.0.jpg ~ dog.99.jpg）\n",
        "  ├── validation\n",
        "  │   ├── cats 50枚の写真（cat.100.jpg ~ cat.149.jpg）\n",
        "  │   └── dogs 50枚の写真（dog.100.jpg ~ dog.149.jpg）\n",
        "  └── test\n",
        "      ├── cats 50枚の写真（cat.150.jpg ~ cat.199.jpg）\n",
        "      └── dogs 50枚の写真（dog.150.jpg ~ dog.199.jpg）\n",
        "```\n",
        "\n"
      ]
    },
    {
      "cell_type": "markdown",
      "metadata": {
        "id": "FCsSELfFXAj0",
        "colab_type": "text"
      },
      "source": [
        "以下のコードを実行して下さい。\n",
        "\n",
        "パスに対応した変数が用意できます。"
      ]
    },
    {
      "cell_type": "code",
      "metadata": {
        "id": "qMelO6j3UXCM",
        "colab_type": "code",
        "colab": {}
      },
      "source": [
        "train_dir = '/content/drive/train'\n",
        "train_cats_dir = '/content/drive/train/cats'\n",
        "train_dogs_dir = '/content/drive/train/dogs'\n",
        "validation_dir = '/content/drive/validation'\n",
        "validation_cats_dir = '/content/drive/validation/cats'\n",
        "validation_dogs_dir = '/content/drive/validation/dogs'\n",
        "test_dir = '/content/drive/test'\n",
        "test_cats_dir = '/content/drive/test/cats'\n",
        "test_dogs_dir = '/content/drive/test/dogs'"
      ],
      "execution_count": 0,
      "outputs": []
    },
    {
      "cell_type": "markdown",
      "metadata": {
        "id": "4CbKDZLKxhKE",
        "colab_type": "text"
      },
      "source": [
        "# 3.データの前処理\n",
        "\n",
        "学習を行えるようにデータを編集します。\n",
        "\n",
        "まずimage.ImageDataGenerator オブジェクトを作成する。この際にオプションを指定してRGB(0〜255)で読み込まれた各画素のRGB値を0.0〜1.0の間に収まるように正規化したり、ランダムに拡張してデータの水増しができます。\n",
        "\n",
        "次にflow_from_directory()　メソッドで指定したフォルダーの画像をリサイズや正解ラベル付けを行います。"
      ]
    },
    {
      "cell_type": "markdown",
      "metadata": {
        "id": "DrnVqkX7xyft",
        "colab_type": "text"
      },
      "source": [
        "## 例"
      ]
    },
    {
      "cell_type": "code",
      "metadata": {
        "id": "vyceaOjbxzmj",
        "colab_type": "code",
        "colab": {}
      },
      "source": [
        "from keras.preprocessing.image import ImageDataGenerator\n",
        "\n",
        "#画像データの拡張パラメータを設定\n",
        "datagen = ImageDataGenerator(\n",
        "    rotation_range=0., 　　　# 画像をランダムに回転する回転範囲（0-180）\n",
        "    width_shift_range=0., 　　# ランダムに水平シフトする範囲\n",
        "    height_shift_range=0., 　　# ランダムに垂直シフトする範囲\n",
        "    shear_range=0.2,　　　　 # シアー強度（反時計回りのシアー角度（ラジアン））\n",
        "    zoom_range=0.2, 　　　　　# ランダムにズームする範囲\n",
        "    horizontal_flip=True, 　　# 水平方向に入力をランダムに反転\n",
        "    vertical_flip=True, 　　# 垂直方向に入力をランダムに反転\n",
        "    rescale=1.0 / 255,　　 # 各画素のRGB値を正規化\n",
        "    )\n",
        "\n",
        "#flow_from_directoryで指定したディレクトリから一枚ずつ画像を取り出す\n",
        "train_generator = train_datagen.flow_from_directory(\n",
        "        train_dir,　　　　　　　　　　#指定するディレクトリ\n",
        "        target_size=(250, 250),　　#縦、横のサイズを指定してリサイズ\n",
        "        batch_size=20,　　　　　　 　#ミニバッチ学習に使われるバッチのサイズ指定\n",
        "        class_mode=\"categorical\"　　#正解ラベルの生成の仕方\n",
        ")\n"
      ],
      "execution_count": 0,
      "outputs": []
    },
    {
      "cell_type": "markdown",
      "metadata": {
        "id": "R4Ul6Ahjx7aa",
        "colab_type": "text"
      },
      "source": [
        "## 実習1\n",
        "\n",
        "\"###\" **を適切なコードで置き換えて下さい。**"
      ]
    },
    {
      "cell_type": "code",
      "metadata": {
        "id": "89_iLkDnx81B",
        "colab_type": "code",
        "colab": {}
      },
      "source": [
        "from keras.preprocessing.image import ImageDataGenerator\n",
        " \n",
        "#訓練画像は水増しする\n",
        "#好きなパラメータを入れて下さい　デフォルトは0かFALSEです\n",
        "train_datagen = ImageDataGenerator(rescale=###\n",
        "                                   ###\n",
        "                                   ###\n",
        "                                   ###\n",
        "                                   )\n",
        "\n",
        "validation_datagen = ImageDataGenerator(rescale=1./255)\n",
        " \n",
        "train_generator = ###(\n",
        "    train_dir,\n",
        "    ###,\n",
        "    ###,\n",
        "    ###\"\n",
        ")\n",
        " \n",
        "validation_generator = validation_datagen.flow_from_directory(\n",
        "    validation_dir,\n",
        "    target_size=(150,150),\n",
        "    batch_size=10,\n",
        "    class_mode=\"binary\"\n",
        ")"
      ],
      "execution_count": 0,
      "outputs": []
    },
    {
      "cell_type": "markdown",
      "metadata": {
        "id": "zJcd1FSmyDAM",
        "colab_type": "text"
      },
      "source": [
        "##解答例"
      ]
    },
    {
      "cell_type": "code",
      "metadata": {
        "id": "yKfFL5qzyG5H",
        "colab_type": "code",
        "colab": {}
      },
      "source": [
        "from keras.preprocessing.image import ImageDataGenerator\n",
        " \n",
        "train_datagen = ImageDataGenerator(rescale=1./255,\n",
        "                                    rotation_range=40,\n",
        "                                    width_shift_range=0.2,\n",
        "                                    height_shift_range=0.2,\n",
        "                                    shear_range=0.2,\n",
        "                                    zoom_range=0.2,\n",
        "                                    horizontal_flip=True,\n",
        "                                    fill_mode=\"nearest\"\n",
        "                                    )\n",
        "\n",
        "validation_datagen = ImageDataGenerator(rescale=1./255)\n",
        " \n",
        "train_generator = train_datagen.flow_from_directory(\n",
        "    train_dir,\n",
        "    target_size=(150,150),\n",
        "    batch_size=10,\n",
        "    class_mode=\"binary\"\n",
        ")\n",
        " \n",
        "validation_generator = validation_datagen.flow_from_directory(\n",
        "    validation_dir,\n",
        "    target_size=(150,150),\n",
        "    batch_size=10,\n",
        "    class_mode=\"binary\"\n",
        ")"
      ],
      "execution_count": 0,
      "outputs": []
    },
    {
      "cell_type": "markdown",
      "metadata": {
        "id": "-9LopSSDyRhR",
        "colab_type": "text"
      },
      "source": [
        "データとラベルの型を確認します。モデルはこの型を参考にして作成します"
      ]
    },
    {
      "cell_type": "code",
      "metadata": {
        "id": "Sdcxh6jEyQy6",
        "colab_type": "code",
        "colab": {}
      },
      "source": [
        "for data,label in train_generator:\n",
        "    print(data.shape)\n",
        "    print(label.shape)\n",
        "    break\n",
        "print(train_generator.class_indices)"
      ],
      "execution_count": 0,
      "outputs": []
    },
    {
      "cell_type": "markdown",
      "metadata": {
        "id": "oW2q4l22w48l",
        "colab_type": "text"
      },
      "source": [
        "# 4.CNNモデルの作成"
      ]
    },
    {
      "cell_type": "markdown",
      "metadata": {
        "id": "YXZO0ztoUMro",
        "colab_type": "text"
      },
      "source": [
        "\n",
        "<img src = \"https://kenyu-life.com/wp-content/uploads/2019/03/%E3%82%B9%E3%82%AF%E3%83%AA%E3%83%BC%E3%83%B3%E3%82%B7%E3%83%A7%E3%83%83%E3%83%88-2019-03-07-8.56.07.jpg\" alt = \"filter\" height = \"250px\">\n",
        "\n",
        "<small>画像は[kenyu-life.com](https://kenyu-life.com/2019/03/07/convolutional_neural_network/) から引用 </small>\n",
        "\n",
        "CNN（畳み込みニューラルネットワーク）では、\n",
        "\n",
        "\n",
        "1. 畳み込みフィルタ層：画像の濃淡パターンを検出します。（エッジ抽出等の特徴抽出）\n",
        "\n",
        "<img src = \"https://kenyu-life.com/wp-content/uploads/2019/03/3cnn.gif\" alt = \"filter\" height = \"400px\">\n",
        "\n",
        "<small>画像は[kenyu-life.com](https://kenyu-life.com/2019/03/07/convolutional_neural_network/) から引用 </small>\n",
        "\n",
        "2. プーリング層：物体の位置が変動しても同一の物体であると見なせるようにします。（位置ズレを許容する）また，プーリングには，「maxプーリング」と「avgプーリング」の2種類があります．\n",
        "\n",
        "<img src = \"https://kenyu-life.com/wp-content/uploads/2019/03/pooling.gif\" alt = \"filter\" height = \"200px\">\n",
        "\n",
        "<small>画像は[kenyu-life.com](https://kenyu-life.com/2019/03/07/convolutional_neural_network/) から引用 </small>\n",
        "\n",
        "　これらの層を組み合わせることによって、画像から特徴量を抽出する働きを担っています。\n",
        "\n",
        "\n",
        "　一方、特徴量を抽出するだけでは、画像の識別はできません。識別には、「特徴量に基づいた分類」が必要です。この分類の役割を担っているのが、全結合層と出力層です。\n",
        "\n",
        "\n",
        "3. 全結合層：①②を通して特徴部分が取り出された画像データを一つのノードに結合し、活性化関数（後述）によって変換された値（特徴変数）を出力します。ノードの数が増えると特徴量空間の分割数が増し、各領域を特徴付ける特徴変数の数が増えます。\n",
        "\n",
        "4. 出力層：全結合層からの出力（特徴変数）を元に、ソフトマックス関数を用いて確率に変換し、それぞれの領域に正しく分類される確率を最大化する（最尤推定法）ことによって分類を行います。\n",
        "\n"
      ]
    },
    {
      "cell_type": "markdown",
      "metadata": {
        "id": "3iVdPjvknnwv",
        "colab_type": "text"
      },
      "source": [
        "## 例"
      ]
    },
    {
      "cell_type": "code",
      "metadata": {
        "id": "-j1Qb74mnqK8",
        "colab_type": "code",
        "colab": {}
      },
      "source": [
        "from keras import layers\n",
        "from keras import models\n",
        " \n",
        "model = models.Sequential()\n",
        "model.add(layers.Conv2D(32,       #フィルターの数\n",
        "                        (3,3),      #3x3のフィルター\n",
        "                        activation=\"relu\",     #活性化関数\n",
        "                        input_shape=(150,150,3))   #入力データの型をここで一度指定する\n",
        ")\n",
        "model.add(Conv2D(32,(3,3),activation=\"relu\")\n",
        "model.add(MaxPool2D(pool_size=(2,2)))\n",
        "\n",
        "model.add(Conv2D(64,(3,3),activation=\"relu\")\n",
        "model.add(MaxPool2D(pool_size=(2,2)))\n",
        "\n",
        "model.add(Flatten())\n",
        "model.add(Dense(1024,activation=\"relu\")\n",
        "model.add(Activation('relu'))\n",
        "model.add(Dropout(1.0))\n",
        "\n",
        "model.add(Dense(nb_classes, activation='softmax'))"
      ],
      "execution_count": 0,
      "outputs": []
    },
    {
      "cell_type": "markdown",
      "metadata": {
        "id": "ndGhxoiGnqYd",
        "colab_type": "text"
      },
      "source": [
        "## 実習2\n",
        "\n",
        "以下の画像を参考に、畳込みが3層の小さなモデルを構成したい。(レイヤーを増やすと、１つ目に適用した結果に対して２回目の畳み込みをするため、より小さい特徴を捉えられるようになる)\n",
        "\n",
        "\n",
        "青で囲った部分が畳込み層（Convolution2D）+プーリング層（MaxPooling2D）で緑で囲った部分がフル結合層です。\n",
        "\n",
        "入力画像を150x150ピクセルで3チャンネルとした時のアウトプットを表している。\n",
        "\n",
        "\n",
        "\n",
        "<img src = \"https://cdn-ak.f.st-hatena.com/images/fotolife/a/aidiary/20170110/20170110195058.png\" alt = \"CNN\" height = \"400px\">\n",
        "\n",
        "<small>画像は[Hatena Blog](http://aidiary.hatenablog.com/entry/20170110/1484057655) から引用 </small>\n",
        "\n",
        "\"###\" を適切なコードで置き換えて下さい。"
      ]
    },
    {
      "cell_type": "code",
      "metadata": {
        "id": "LiWtpYVEnwwT",
        "colab_type": "code",
        "colab": {}
      },
      "source": [
        "from keras import layers\n",
        "from keras import models\n",
        " \n",
        "model = models.Sequential()\n",
        "model.add(layers.Conv2D(32,(3,3),activation=\"relu\",input_shape=(150,150,3)))\n",
        "model.add(layers.MaxPooling2D((2,2)))\n",
        " \n",
        "model.add(###(64,(3,3),###)\n",
        "model.add(###((2,2)))\n",
        " \n",
        "model.add(layers.Conv2D(128,(3,3),activation=\"relu\"))\n",
        "model.add(layers.MaxPooling2D((2,2)))\n",
        " \n",
        "model.add(layers.Conv2D(128,(3,3),activation=\"relu\"))\n",
        "model.add(layers.MaxPooling2D((2,2)))\n",
        " \n",
        "model.add(layers.Flatten())\n",
        " \n",
        "model.add(layers.Dropout(0.5))\n",
        "model.add(layers.Dense(512,activation=\"relu\"))\n",
        "model.add(layers.Dense(1,activation=\"sigmoid\"))\n",
        " \n",
        "model.summary()"
      ],
      "execution_count": 0,
      "outputs": []
    },
    {
      "cell_type": "markdown",
      "metadata": {
        "id": "Nl4AFhCAnxfe",
        "colab_type": "text"
      },
      "source": [
        "## 解答例"
      ]
    },
    {
      "cell_type": "code",
      "metadata": {
        "id": "qqYFNxgVYcZl",
        "colab_type": "code",
        "colab": {}
      },
      "source": [
        "from keras import layers\n",
        "from keras import models\n",
        " \n",
        "model = models.Sequential()\n",
        "model.add(layers.Conv2D(32,(3,3),activation=\"relu\",input_shape=(150,150,3)))\n",
        "model.add(layers.MaxPooling2D((2,2)))\n",
        " \n",
        "model.add(layers.Conv2D(64,(3,3),activation=\"relu\"))\n",
        "model.add(layers.MaxPooling2D((2,2)))\n",
        " \n",
        "model.add(layers.Conv2D(128,(3,3),activation=\"relu\"))\n",
        "model.add(layers.MaxPooling2D((2,2)))\n",
        " \n",
        "model.add(layers.Conv2D(128,(3,3),activation=\"relu\"))\n",
        "model.add(layers.MaxPooling2D((2,2)))\n",
        " \n",
        "model.add(layers.Flatten())\n",
        " \n",
        "model.add(layers.Dropout(0.5))\n",
        "model.add(layers.Dense(512,activation=\"relu\"))\n",
        "model.add(layers.Dense(1,activation=\"sigmoid\")) #2値分類なので最終出力は1つのニューロン\n",
        " \n",
        "model.summary()"
      ],
      "execution_count": 0,
      "outputs": []
    },
    {
      "cell_type": "markdown",
      "metadata": {
        "id": "psWaHThmbAmW",
        "colab_type": "text"
      },
      "source": [
        "# 5.コンパイル\n",
        "\n",
        "モデルを使った学習の前に、どのような学習処理を行うかをcompileメソッドを用いて設定します。"
      ]
    },
    {
      "cell_type": "markdown",
      "metadata": {
        "id": "L7BCGaytwNvi",
        "colab_type": "text"
      },
      "source": [
        "## 例"
      ]
    },
    {
      "cell_type": "code",
      "metadata": {
        "id": "nFnimk99wQXi",
        "colab_type": "code",
        "colab": {}
      },
      "source": [
        "from keras import optimizers\n",
        "\n",
        "model.compile(loss=\"mean_squared_error\",　　##ズレの大きさを定量化する損失関数\n",
        "             optimizer=optimizers.RMSprop(lr=1e-4),   #最適化アルゴリズム\n",
        "             metrics=[\"acc\"])   #訓練やテストの際にモデルを評価するための評価関数のリスト"
      ],
      "execution_count": 0,
      "outputs": []
    },
    {
      "cell_type": "markdown",
      "metadata": {
        "id": "ZMuhfVN5wQmX",
        "colab_type": "text"
      },
      "source": [
        "## 実習3\n",
        "\"###\" を適切なコードで置き換えて下さい。\n",
        "ただし損失関数は\"binary_crossentropy\"を指定します。"
      ]
    },
    {
      "cell_type": "code",
      "metadata": {
        "id": "CbkRDEm0wQ5v",
        "colab_type": "code",
        "colab": {}
      },
      "source": [
        "from keras import optimizers\n",
        "\n",
        "model.compile(###,　\n",
        "             optimizer=\"adam\",   \n",
        "             metrics=[\"acc\"]) "
      ],
      "execution_count": 0,
      "outputs": []
    },
    {
      "cell_type": "markdown",
      "metadata": {
        "id": "wgk4SQOHwdL5",
        "colab_type": "text"
      },
      "source": [
        "## 解答例"
      ]
    },
    {
      "cell_type": "code",
      "metadata": {
        "id": "rS5U9QGQU5Qt",
        "colab_type": "code",
        "colab": {}
      },
      "source": [
        "from keras import optimizers\n",
        "\n",
        "model.compile(loss=\"binary_crossentropy\",\n",
        "             optimizer=\"adam\",   \n",
        "             metrics=[\"acc\"]) "
      ],
      "execution_count": 0,
      "outputs": []
    },
    {
      "cell_type": "markdown",
      "metadata": {
        "id": "HuvsLvjz9yg2",
        "colab_type": "text"
      },
      "source": [
        "# 6.モデルの学習"
      ]
    },
    {
      "cell_type": "markdown",
      "metadata": {
        "id": "vHe-oerhYMXn",
        "colab_type": "text"
      },
      "source": [
        "\n",
        "\n",
        "Kerasで作ったモデルをfitすると、戻り値として損失関数や正解率を格納したHistoryオブジェクトが返されます。"
      ]
    },
    {
      "cell_type": "code",
      "metadata": {
        "id": "o0WtQkIVVJcW",
        "colab_type": "code",
        "colab": {}
      },
      "source": [
        "history = model.fit_generator(train_generator,\n",
        "                             steps_per_epoch=30,\n",
        "                             epochs=5,\n",
        "                             validation_data=validation_generator,\n",
        "                             validation_steps=10)"
      ],
      "execution_count": 0,
      "outputs": []
    },
    {
      "cell_type": "markdown",
      "metadata": {
        "id": "uPpVlhSEM3bY",
        "colab_type": "text"
      },
      "source": [
        "# 7.学習した過程を可視化"
      ]
    },
    {
      "cell_type": "code",
      "metadata": {
        "id": "tQbqEyCrVM3X",
        "colab_type": "code",
        "colab": {}
      },
      "source": [
        "import matplotlib.pyplot as plt\n",
        "%matplotlib inline\n",
        "\n",
        "acc = history.history[\"acc\"]\n",
        "val_acc = history.history[\"val_acc\"]\n",
        "loss = history.history[\"loss\"]\n",
        "val_loss = history.history[\"val_loss\"]\n",
        "\n",
        "epochs = range(1,len(acc) + 1)\n",
        "\n",
        "plt.plot(epochs, acc,\"bo\",label=\"Training Acc\")\n",
        "plt.plot(epochs, val_acc,\"b\",label=\"Validation Acc\")\n",
        "plt.legend()\n",
        "\n",
        "plt.figure()\n",
        "\n",
        "plt.plot(epochs,loss,\"bo\",label=\"Training Loss\")\n",
        "plt.plot(epochs,val_loss,\"b\",label=\"Validation Loss\")\n",
        "plt.legend()\n",
        "\n",
        "plt.show()"
      ],
      "execution_count": 0,
      "outputs": []
    },
    {
      "cell_type": "markdown",
      "metadata": {
        "id": "4bkYYd_GqZts",
        "colab_type": "text"
      },
      "source": [
        "# 8.テストデータを使って評価\n",
        "\n",
        "trainingやvalidationとは別に用意したtest用画像を使って評価してみます。"
      ]
    },
    {
      "cell_type": "code",
      "metadata": {
        "id": "hXsck9azVRqf",
        "colab_type": "code",
        "colab": {}
      },
      "source": [
        "# テスト用画像データのジェネレータ\n",
        "test_datagen = ImageDataGenerator(rescale=1. / 255)\n",
        "test_generator = test_datagen.flow_from_directory(\n",
        "    test_dir,\n",
        "    target_size=(150,150),\n",
        "    batch_size=1,\n",
        "    class_mode=None,\n",
        "    shuffle=False\n",
        ")\n",
        "\n",
        "# 分類予測\n",
        "pred = model.predict_generator(\n",
        "        test_generator,\n",
        "        steps=100,\n",
        "        verbose=1\n",
        ")"
      ],
      "execution_count": 0,
      "outputs": []
    },
    {
      "cell_type": "code",
      "metadata": {
        "id": "s4rTPhUnqgyf",
        "colab_type": "code",
        "colab": {}
      },
      "source": [
        "import numpy as np\n",
        "\n",
        "labels = ['cat', 'dog']\n",
        "\n",
        "print(\"*** test data [cat] *****\")\n",
        "for i in pred[0:15]:\n",
        "    cls = np.argmax(i)\n",
        "    score = np.max(i)\n",
        "    print(\"pred: {}  score = {:.3f}\".format(labels[cls], score))\n",
        "\n",
        "print(\"-\" * 30)\n",
        "\n",
        "print(\"*** test data [dog] *****\")\n",
        "for i in pred[15:30]:\n",
        "    cls = np.argmax(i)\n",
        "    score = np.max(i)\n",
        "    print(\"pred: {}  score = {:.3f}\".format(labels[cls], score))"
      ],
      "execution_count": 0,
      "outputs": []
    }
  ]
}